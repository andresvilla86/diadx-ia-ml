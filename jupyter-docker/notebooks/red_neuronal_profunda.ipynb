{
  "nbformat": 4,
  "nbformat_minor": 0,
  "metadata": {
    "colab": {
      "name": "red-neuronal-profunda.ipynb",
      "provenance": [],
      "collapsed_sections": []
    },
    "kernelspec": {
      "name": "python3",
      "display_name": "Python 3"
    }
  },
  "cells": [
    {
      "cell_type": "markdown",
      "metadata": {
        "id": "x13NkYVezHY8"
      },
      "source": [
        "## Este ejercicio tiene como objetivo explicar la construccion de un modelo de Redes Neuronales Artificiales Produndas (Deep Network) usando el data set MNIST\r\n",
        "\r\n",
        "![](https://www.researchgate.net/publication/346702022/figure/fig1/AS:966313367322628@1607398468415/Analogia-entre-el-modelo-biologico-y-el-matematico-de-una-neurona-En-b-se-observa-como.jpg)"
      ]
    },
    {
      "cell_type": "code",
      "metadata": {
        "id": "87uBWa0fEfQi"
      },
      "source": [
        "%matplotlib inline\r\n",
        "import numpy as np                   \r\n",
        "import matplotlib.pyplot as plt      \r\n",
        "import random                        \r\n",
        "\r\n",
        "from keras.datasets import mnist     \r\n",
        "from keras.models import Sequential  \r\n",
        "\r\n",
        "from keras.layers.core import Dense, Dropout, Activation \r\n",
        "from keras.utils import np_utils                        \r\n",
        "\r\n",
        "from keras.preprocessing.image import ImageDataGenerator\r\n",
        "from keras.layers import Conv2D, MaxPooling2D, ZeroPadding2D, GlobalAveragePooling2D, Flatten\r\n",
        "from keras.layers.normalization import BatchNormalization"
      ],
      "execution_count": 18,
      "outputs": []
    },
    {
      "cell_type": "code",
      "metadata": {
        "id": "N7tpZF2pEm9b"
      },
      "source": [
        "(X_train, y_train), (X_test, y_test) = mnist.load_data()"
      ],
      "execution_count": 21,
      "outputs": []
    },
    {
      "cell_type": "code",
      "metadata": {
        "colab": {
          "base_uri": "https://localhost:8080/"
        },
        "id": "euO7yMKREtW8",
        "outputId": "5eee454c-463f-4d55-e956-3d004d26cad1"
      },
      "source": [
        "# Again, do some formatting\r\n",
        "# No hacemos el aplanado para hacer primero las CONV layers\r\n",
        "\r\n",
        "X_train = X_train.reshape(60000, 28, 28, 1) #agregamos una dimension\r\n",
        "X_test = X_test.reshape(10000, 28, 28, 1)\r\n",
        "\r\n",
        "X_train = X_train.astype('float32')         # cambiamos de enteros a float\r\n",
        "X_test = X_test.astype('float32')\r\n",
        "\r\n",
        "X_train /= 255                              # normalizamos\r\n",
        "X_test /= 255\r\n",
        "\r\n",
        "print(\"Training matrix shape\", X_train.shape)\r\n",
        "print(\"Testing matrix shape\", X_test.shape)"
      ],
      "execution_count": 22,
      "outputs": [
        {
          "output_type": "stream",
          "text": [
            "Training matrix shape (60000, 28, 28, 1)\n",
            "Testing matrix shape (10000, 28, 28, 1)\n"
          ],
          "name": "stdout"
        }
      ]
    },
    {
      "cell_type": "code",
      "metadata": {
        "id": "VKm3w_SCEwfw"
      },
      "source": [
        "# one-hot format classes\r\n",
        "\r\n",
        "nb_classes = 10 \r\n",
        "\r\n",
        "Y_train = np_utils.to_categorical(y_train, nb_classes)\r\n",
        "Y_test = np_utils.to_categorical(y_test, nb_classes)"
      ],
      "execution_count": 23,
      "outputs": []
    },
    {
      "cell_type": "code",
      "metadata": {
        "id": "voeSAYJQExQE"
      },
      "source": [
        "model = Sequential()                                 \r\n",
        "\r\n",
        "# Convolution Layer 1\r\n",
        "model.add(Conv2D(32, (3, 3), input_shape=(28,28,1))) # 32 different 3x3 kernels -- so 32 feature maps\r\n",
        "model.add(BatchNormalization(axis=-1))               # normalize each feature map before activation\r\n",
        "convLayer01 = Activation('relu')                     # activation\r\n",
        "model.add(convLayer01)\r\n",
        "\r\n",
        "# Convolution Layer 2\r\n",
        "model.add(Conv2D(32, (3, 3)))                        # 32 different 3x3 kernels -- so 32 feature maps\r\n",
        "model.add(BatchNormalization(axis=-1))               # normalize each feature map before activation\r\n",
        "model.add(Activation('relu'))                        # activation\r\n",
        "convLayer02 = MaxPooling2D(pool_size=(2,2))          # Pool the max values over a 2x2 kernel\r\n",
        "model.add(convLayer02)\r\n",
        "\r\n",
        "# Convolution Layer 3\r\n",
        "model.add(Conv2D(64,(3, 3)))                         # 64 different 3x3 kernels -- so 64 feature maps\r\n",
        "model.add(BatchNormalization(axis=-1))               # normalize each feature map before activation\r\n",
        "convLayer03 = Activation('relu')                     # activation\r\n",
        "model.add(convLayer03)\r\n",
        "\r\n",
        "# Convolution Layer 4\r\n",
        "model.add(Conv2D(64, (3, 3)))                        # 64 different 3x3 kernels -- so 64 feature maps\r\n",
        "model.add(BatchNormalization(axis=-1))               # normalize each feature map before activation\r\n",
        "model.add(Activation('relu'))                        # activation\r\n",
        "convLayer04 = MaxPooling2D(pool_size=(2,2))          # Pool the max values over a 2x2 kernel\r\n",
        "model.add(convLayer04)\r\n",
        "model.add(Flatten())                                 # Flatten final 4x4x64 output matrix into a 1024-length vector\r\n",
        "\r\n",
        "# Fully Connected Layer 5\r\n",
        "model.add(Dense(512))                                # 512 FCN nodes\r\n",
        "model.add(BatchNormalization())                      # normalization\r\n",
        "model.add(Activation('relu'))                        # activation\r\n",
        "\r\n",
        "# Fully Connected Layer 6                       \r\n",
        "model.add(Dropout(0.2))                              # 20% dropout of randomly selected nodes\r\n",
        "model.add(Dense(10))                                 # final 10 FCN nodes\r\n",
        "model.add(Activation('softmax'))                     # softmax activation"
      ],
      "execution_count": 8,
      "outputs": []
    },
    {
      "cell_type": "code",
      "metadata": {
        "colab": {
          "base_uri": "https://localhost:8080/"
        },
        "id": "vsF0LSYJE3G8",
        "outputId": "8965d71d-3d42-452f-ea64-aff33b520217"
      },
      "source": [
        "model.summary()"
      ],
      "execution_count": 24,
      "outputs": [
        {
          "output_type": "stream",
          "text": [
            "Model: \"sequential\"\n",
            "_________________________________________________________________\n",
            "Layer (type)                 Output Shape              Param #   \n",
            "=================================================================\n",
            "conv2d (Conv2D)              (None, 26, 26, 32)        320       \n",
            "_________________________________________________________________\n",
            "batch_normalization (BatchNo (None, 26, 26, 32)        128       \n",
            "_________________________________________________________________\n",
            "activation (Activation)      (None, 26, 26, 32)        0         \n",
            "_________________________________________________________________\n",
            "conv2d_1 (Conv2D)            (None, 24, 24, 32)        9248      \n",
            "_________________________________________________________________\n",
            "batch_normalization_1 (Batch (None, 24, 24, 32)        128       \n",
            "_________________________________________________________________\n",
            "activation_1 (Activation)    (None, 24, 24, 32)        0         \n",
            "_________________________________________________________________\n",
            "max_pooling2d (MaxPooling2D) (None, 12, 12, 32)        0         \n",
            "_________________________________________________________________\n",
            "conv2d_2 (Conv2D)            (None, 10, 10, 64)        18496     \n",
            "_________________________________________________________________\n",
            "batch_normalization_2 (Batch (None, 10, 10, 64)        256       \n",
            "_________________________________________________________________\n",
            "activation_2 (Activation)    (None, 10, 10, 64)        0         \n",
            "_________________________________________________________________\n",
            "conv2d_3 (Conv2D)            (None, 8, 8, 64)          36928     \n",
            "_________________________________________________________________\n",
            "batch_normalization_3 (Batch (None, 8, 8, 64)          256       \n",
            "_________________________________________________________________\n",
            "activation_3 (Activation)    (None, 8, 8, 64)          0         \n",
            "_________________________________________________________________\n",
            "max_pooling2d_1 (MaxPooling2 (None, 4, 4, 64)          0         \n",
            "_________________________________________________________________\n",
            "flatten (Flatten)            (None, 1024)              0         \n",
            "_________________________________________________________________\n",
            "dense (Dense)                (None, 512)               524800    \n",
            "_________________________________________________________________\n",
            "batch_normalization_4 (Batch (None, 512)               2048      \n",
            "_________________________________________________________________\n",
            "activation_4 (Activation)    (None, 512)               0         \n",
            "_________________________________________________________________\n",
            "dropout (Dropout)            (None, 512)               0         \n",
            "_________________________________________________________________\n",
            "dense_1 (Dense)              (None, 10)                5130      \n",
            "_________________________________________________________________\n",
            "activation_5 (Activation)    (None, 10)                0         \n",
            "=================================================================\n",
            "Total params: 597,738\n",
            "Trainable params: 596,330\n",
            "Non-trainable params: 1,408\n",
            "_________________________________________________________________\n"
          ],
          "name": "stdout"
        }
      ]
    },
    {
      "cell_type": "code",
      "metadata": {
        "id": "UM7Qd7CeE4BA"
      },
      "source": [
        "# Mismo optimizador adam\r\n",
        "\r\n",
        "model.compile(loss='categorical_crossentropy', optimizer='adam', metrics=['accuracy'])"
      ],
      "execution_count": 25,
      "outputs": []
    },
    {
      "cell_type": "code",
      "metadata": {
        "id": "p7tjU-1ZE7y5"
      },
      "source": [
        "# Aumentamos la data para prevenir overfitting\r\n",
        "\r\n",
        "gen = ImageDataGenerator(rotation_range=8, width_shift_range=0.08, shear_range=0.3,\r\n",
        "                         height_shift_range=0.08, zoom_range=0.08)\r\n",
        "\r\n",
        "test_gen = ImageDataGenerator()"
      ],
      "execution_count": 26,
      "outputs": []
    },
    {
      "cell_type": "code",
      "metadata": {
        "id": "RzripKNCE-ug"
      },
      "source": [
        "train_generator = gen.flow(X_train, Y_train, batch_size=128)\r\n",
        "test_generator = test_gen.flow(X_test, Y_test, batch_size=128)"
      ],
      "execution_count": 27,
      "outputs": []
    },
    {
      "cell_type": "code",
      "metadata": {
        "colab": {
          "base_uri": "https://localhost:8080/"
        },
        "id": "tlvZwWGEFBPB",
        "outputId": "d65d5abf-3482-4ab6-8be4-4605844051f2"
      },
      "source": [
        "model.fit_generator(train_generator, steps_per_epoch=60000//128, epochs=5, verbose=1, \r\n",
        "                    validation_data=test_generator, validation_steps=10000//128)"
      ],
      "execution_count": 28,
      "outputs": [
        {
          "output_type": "stream",
          "text": [
            "/usr/local/lib/python3.7/dist-packages/tensorflow/python/keras/engine/training.py:1844: UserWarning: `Model.fit_generator` is deprecated and will be removed in a future version. Please use `Model.fit`, which supports generators.\n",
            "  warnings.warn('`Model.fit_generator` is deprecated and '\n"
          ],
          "name": "stderr"
        },
        {
          "output_type": "stream",
          "text": [
            "Epoch 1/5\n",
            "468/468 [==============================] - 179s 380ms/step - loss: 0.0345 - accuracy: 0.9889 - val_loss: 0.0285 - val_accuracy: 0.9911\n",
            "Epoch 2/5\n",
            "468/468 [==============================] - 177s 379ms/step - loss: 0.0278 - accuracy: 0.9910 - val_loss: 0.0334 - val_accuracy: 0.9891\n",
            "Epoch 3/5\n",
            "468/468 [==============================] - 177s 379ms/step - loss: 0.0257 - accuracy: 0.9919 - val_loss: 0.0205 - val_accuracy: 0.9930\n",
            "Epoch 4/5\n",
            "468/468 [==============================] - 177s 378ms/step - loss: 0.0245 - accuracy: 0.9921 - val_loss: 0.0454 - val_accuracy: 0.9855\n",
            "Epoch 5/5\n",
            "468/468 [==============================] - 177s 378ms/step - loss: 0.0208 - accuracy: 0.9935 - val_loss: 0.0220 - val_accuracy: 0.9927\n"
          ],
          "name": "stdout"
        },
        {
          "output_type": "execute_result",
          "data": {
            "text/plain": [
              "<tensorflow.python.keras.callbacks.History at 0x7f53bcf00650>"
            ]
          },
          "metadata": {
            "tags": []
          },
          "execution_count": 28
        }
      ]
    },
    {
      "cell_type": "code",
      "metadata": {
        "colab": {
          "base_uri": "https://localhost:8080/"
        },
        "id": "6CfnwdW8FBxV",
        "outputId": "023f21f0-0f6f-4402-e66c-50b9cafb9ac0"
      },
      "source": [
        "score = model.evaluate(X_test, Y_test)\r\n",
        "print('Test score:', score[0])\r\n",
        "print('Test accuracy:', score[1])"
      ],
      "execution_count": 29,
      "outputs": [
        {
          "output_type": "stream",
          "text": [
            "313/313 [==============================] - 8s 25ms/step - loss: 0.0220 - accuracy: 0.9927\n",
            "Test score: 0.02195683680474758\n",
            "Test accuracy: 0.9926999807357788\n"
          ],
          "name": "stdout"
        }
      ]
    },
    {
      "cell_type": "code",
      "metadata": {
        "id": "qBFS5uNcFGal"
      },
      "source": [
        ""
      ],
      "execution_count": 42,
      "outputs": []
    },
    {
      "cell_type": "code",
      "metadata": {
        "colab": {
          "base_uri": "https://localhost:8080/",
          "height": 282
        },
        "id": "NhY2pHt7FHbF",
        "outputId": "562d0a4c-41a6-409f-e114-e6d6dbac0064"
      },
      "source": [
        "plt.figure()\r\n",
        "plt.imshow(X_test[7].reshape(28,28), cmap='gray', interpolation='none')"
      ],
      "execution_count": 37,
      "outputs": [
        {
          "output_type": "execute_result",
          "data": {
            "text/plain": [
              "<matplotlib.image.AxesImage at 0x7f53b71ebf10>"
            ]
          },
          "metadata": {
            "tags": []
          },
          "execution_count": 37
        },
        {
          "output_type": "display_data",
          "data": {
            "image/png": "[encoded data removed]",
            "text/plain": [
              "<Figure size 432x288 with 1 Axes>"
            ]
          },
          "metadata": {
            "tags": [],
            "needs_background": "light"
          }
        }
      ]
    },
    {
      "cell_type": "code",
      "metadata": {
        "colab": {
          "base_uri": "https://localhost:8080/"
        },
        "id": "sfEUetI0yl-t",
        "outputId": "4c59dbe8-e22f-4bc7-a3de-126a3e74d700"
      },
      "source": [
        "predicted_classes = model.predict_classes(X_test)\r\n",
        "correct_indices = np.nonzero(predicted_classes == y_test)[0]\r\n",
        "\r\n",
        "incorrect_indices = np.nonzero(predicted_classes != y_test)[0]"
      ],
      "execution_count": 40,
      "outputs": [
        {
          "output_type": "stream",
          "text": [
            "/usr/local/lib/python3.7/dist-packages/tensorflow/python/keras/engine/sequential.py:450: UserWarning: `model.predict_classes()` is deprecated and will be removed after 2021-01-01. Please use instead:* `np.argmax(model.predict(x), axis=-1)`,   if your model does multi-class classification   (e.g. if it uses a `softmax` last-layer activation).* `(model.predict(x) > 0.5).astype(\"int32\")`,   if your model does binary classification   (e.g. if it uses a `sigmoid` last-layer activation).\n",
            "  warnings.warn('`model.predict_classes()` is deprecated and '\n"
          ],
          "name": "stderr"
        }
      ]
    },
    {
      "cell_type": "code",
      "metadata": {
        "colab": {
          "base_uri": "https://localhost:8080/",
          "height": 577
        },
        "id": "Zuwy64OuycPb",
        "outputId": "75ab4014-39a2-4d09-e0b8-d88c56f14c90"
      },
      "source": [
        "plt.figure()\r\n",
        "for i, correct in enumerate(correct_indices[:9]):\r\n",
        "    plt.subplot(3,3,i+1)\r\n",
        "    plt.imshow(X_test[correct].reshape(28,28), cmap='gray', interpolation='none')\r\n",
        "    plt.title(\"Predicted {}, Class {}\".format(predicted_classes[correct], y_test[correct]))\r\n",
        "    \r\n",
        "plt.tight_layout()\r\n",
        "    \r\n",
        "plt.figure()\r\n",
        "for i, incorrect in enumerate(incorrect_indices[:9]):\r\n",
        "    plt.subplot(3,3,i+1)\r\n",
        "    plt.imshow(X_test[incorrect].reshape(28,28), cmap='gray', interpolation='none')\r\n",
        "    plt.title(\"Predicted {}, Class {}\".format(predicted_classes[incorrect], y_test[incorrect]))\r\n",
        "    \r\n",
        "plt.tight_layout()"
      ],
      "execution_count": 41,
      "outputs": [
        {
          "output_type": "display_data",
          "data": {
            "image/png": "[encoded data removed]",
            "text/plain": [
              "<Figure size 432x288 with 9 Axes>"
            ]
          },
          "metadata": {
            "tags": [],
            "needs_background": "light"
          }
        },
        {
          "output_type": "display_data",
          "data": {
            "image/png": "[encoded data removed]",
            "text/plain": [
              "<Figure size 432x288 with 9 Axes>"
            ]
          },
          "metadata": {
            "tags": [],
            "needs_background": "light"
          }
        }
      ]
    }
  ]
}