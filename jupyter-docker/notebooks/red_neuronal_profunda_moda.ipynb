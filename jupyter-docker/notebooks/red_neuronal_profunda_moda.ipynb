{
  "nbformat": 4,
  "nbformat_minor": 0,
  "metadata": {
    "colab": {
      "name": "red-neuronal-profunda-moda.ipynb",
      "provenance": [],
      "collapsed_sections": []
    },
    "kernelspec": {
      "name": "python3",
      "display_name": "Python 3"
    }
  },
  "cells": [
    {
      "cell_type": "markdown",
      "metadata": {
        "id": "7tDnh47NvFL7"
      },
      "source": [
        "## Este ejercicio tiene como objetivo explicar la construccion de un modelo de Redes Neuronales Artificiales Produndas (Deep Network) usando el data set fashin-MNIST\r\n",
        "\r\n",
        "![](https://www.researchgate.net/publication/346702022/figure/fig1/AS:966313367322628@1607398468415/Analogia-entre-el-modelo-biologico-y-el-matematico-de-una-neurona-En-b-se-observa-como.jpg)\r\n",
        "\r\n",
        "\r\n",
        "\r\n",
        "\r\n",
        "\r\n",
        "\r\n",
        "\r\n",
        "\r\n"
      ]
    },
    {
      "cell_type": "code",
      "metadata": {
        "id": "IfAkBfXNHajF"
      },
      "source": [
        "!pip install -q -U tensorflow>=1.8.0\r\n",
        "import tensorflow as tf\r\n",
        "import numpy as np\r\n",
        "import matplotlib.pyplot as plt\r\n",
        "\r\n",
        "#Hacemos la carga del set de datos \"fashion-MNIST\"\r\n",
        "(x_train, y_train), (x_test, y_test) = tf.keras.datasets.fashion_mnist.load_data()"
      ],
      "execution_count": 15,
      "outputs": []
    },
    {
      "cell_type": "code",
      "metadata": {
        "colab": {
          "base_uri": "https://localhost:8080/",
          "height": 350
        },
        "id": "3jMnho6HHhnD",
        "outputId": "ef992db5-393d-40b8-94dd-047d4fa26bc0"
      },
      "source": [
        "# Imprimimos la forma del conjunto de entrenamiento: tenga en cuenta que hay 60.000 datos de \r\n",
        "# entrenamiento con un tamaño de imagen de 28x28, 60.000 etiquetas)\r\n",
        "print(\"x_train shape:\", x_train.shape, \"y_train shape:\", y_train.shape)\r\n",
        "\r\n",
        "# Imprimos el numero de datos en entrenamiento y prueba\r\n",
        "print(x_train.shape[0], 'train set')\r\n",
        "print(x_test.shape[0], 'test set')\r\n",
        "\r\n",
        "# Definimos las etiquetas del conjunto de datos\r\n",
        "fashion_mnist_labels = [\"T-shirt/top\",  # index 0\r\n",
        "                        \"Trouser\",      # index 1\r\n",
        "                        \"Pullover\",     # index 2 \r\n",
        "                        \"Dress\",        # index 3 \r\n",
        "                        \"Coat\",         # index 4\r\n",
        "                        \"Sandal\",       # index 5\r\n",
        "                        \"Shirt\",        # index 6 \r\n",
        "                        \"Sneaker\",      # index 7 \r\n",
        "                        \"Bag\",          # index 8 \r\n",
        "                        \"Ankle boot\"]   # index 9\r\n",
        "\r\n",
        "#Usando el indice de la imagine podemos seleccionar una imagen para mostrar (entre 0 y 59,999)\r\n",
        "img_index = 5\r\n",
        "# y_train contiene etiquetas que van entre 0 a 9\r\n",
        "label_index = y_train[img_index]\r\n",
        "# Imprimimos la etiqueta junto a la imagen\r\n",
        "print (\"y = \" + str(label_index) + \" \" +(fashion_mnist_labels[label_index]))\r\n",
        "# Mostramos una imagen del set\r\n",
        "plt.imshow(x_train[img_index])"
      ],
      "execution_count": 16,
      "outputs": [
        {
          "output_type": "stream",
          "text": [
            "x_train shape: (60000, 28, 28) y_train shape: (60000,)\n",
            "60000 train set\n",
            "10000 test set\n",
            "y = 2 Pullover\n"
          ],
          "name": "stdout"
        },
        {
          "output_type": "execute_result",
          "data": {
            "text/plain": [
              "<matplotlib.image.AxesImage at 0x7f90281bfad0>"
            ]
          },
          "metadata": {
            "tags": []
          },
          "execution_count": 16
        },
        {
          "output_type": "display_data",
          "data": {
            "image/png": "[encoded data removed]",
            "text/plain": [
              "<Figure size 432x288 with 1 Axes>"
            ]
          },
          "metadata": {
            "tags": [],
            "needs_background": "light"
          }
        }
      ]
    },
    {
      "cell_type": "code",
      "metadata": {
        "id": "Q7gtPJw8HmqO"
      },
      "source": [
        "#Dividir entre 255 resulta en normalizar la data asi nos quedan numeros entre 0.0-1.0 ejemplo siendo 0 = 0 y 1 = 255\r\n",
        "x_train = x_train.astype('float32') / 255\r\n",
        "x_test = x_test.astype('float32') / 255\r\n",
        "\r\n",
        "x_train"
      ],
      "execution_count": null,
      "outputs": []
    },
    {
      "cell_type": "code",
      "metadata": {
        "colab": {
          "base_uri": "https://localhost:8080/"
        },
        "id": "uZGpbLfnHpT-",
        "outputId": "b55a5af6-1d3b-4462-8f1b-3467ccfa2007"
      },
      "source": [
        "print(\"Number of train data - \" + str(len(x_train)))\r\n",
        "print(\"Number of test data - \" + str(len(x_test)))"
      ],
      "execution_count": 18,
      "outputs": [
        {
          "output_type": "stream",
          "text": [
            "Number of train data - 60000\n",
            "Number of test data - 10000\n"
          ],
          "name": "stdout"
        }
      ]
    },
    {
      "cell_type": "code",
      "metadata": {
        "colab": {
          "base_uri": "https://localhost:8080/"
        },
        "id": "ef8Fi7lbHquC",
        "outputId": "b50524d2-0a13-4494-e200-e53fff9c2c6f"
      },
      "source": [
        "#Partimos el dataset de entrenamiento en entrenamiento y validacion 55,000/5,000\r\n",
        "(x_train, x_valid) = x_train[5000:], x_train[:5000] \r\n",
        "(y_train, y_valid) = y_train[5000:], y_train[:5000]\r\n",
        "\r\n",
        "#Redefinimos la data de (28, 28) a (28, 28, 1)\r\n",
        "w, h = 28, 28\r\n",
        "x_train = x_train.reshape(x_train.shape[0], w, h, 1)\r\n",
        "x_valid = x_valid.reshape(x_valid.shape[0], w, h, 1)\r\n",
        "x_test = x_test.reshape(x_test.shape[0], w, h, 1)\r\n",
        "\r\n",
        "# One-hot encode: Transforma nuestros vectores categoricos en 0, 1 segun sea la etiqueta\r\n",
        "y_train = tf.keras.utils.to_categorical(y_train, 10)\r\n",
        "y_valid = tf.keras.utils.to_categorical(y_valid, 10)\r\n",
        "y_test = tf.keras.utils.to_categorical(y_test, 10)\r\n",
        "\r\n",
        "# Print training set shape\r\n",
        "print(\"x_train shape:\", x_train.shape, \"y_train shape:\", y_train.shape)\r\n",
        "\r\n",
        "# Print the number of training, validation, and test datasets\r\n",
        "print(x_train.shape[0], 'train set')\r\n",
        "print(x_valid.shape[0], 'validation set')\r\n",
        "print(x_test.shape[0], 'test set')"
      ],
      "execution_count": 21,
      "outputs": [
        {
          "output_type": "stream",
          "text": [
            "x_train shape: (50000, 28, 28, 1) y_train shape: (50000, 10, 10)\n",
            "50000 train set\n",
            "5000 validation set\n",
            "10000 test set\n"
          ],
          "name": "stdout"
        }
      ]
    },
    {
      "cell_type": "code",
      "metadata": {
        "colab": {
          "base_uri": "https://localhost:8080/"
        },
        "id": "FVBWf0-MHtDa",
        "outputId": "dddee551-f984-49a7-89a6-a4f9852ba763"
      },
      "source": [
        "model = tf.keras.Sequential()\r\n",
        "\r\n",
        "# Esta es la arquitectura de nuestra red neuronal\r\n",
        "# Debemos notar el INPUT 28,28,1 \r\n",
        "\r\n",
        "model.add(tf.keras.layers.Conv2D(filters=64, kernel_size=2, padding='same', activation='relu', input_shape=(28,28,1))) \r\n",
        "model.add(tf.keras.layers.MaxPooling2D(pool_size=2))\r\n",
        "model.add(tf.keras.layers.Dropout(0.3))\r\n",
        "\r\n",
        "model.add(tf.keras.layers.Conv2D(filters=32, kernel_size=2, padding='same', activation='relu'))\r\n",
        "model.add(tf.keras.layers.MaxPooling2D(pool_size=2))\r\n",
        "model.add(tf.keras.layers.Dropout(0.3))\r\n",
        "\r\n",
        "model.add(tf.keras.layers.Flatten())\r\n",
        "model.add(tf.keras.layers.Dense(256, activation='relu'))\r\n",
        "model.add(tf.keras.layers.Dropout(0.5))\r\n",
        "model.add(tf.keras.layers.Dense(10, activation='softmax'))\r\n",
        "\r\n",
        "# Imprimimos la arquitectura de la red\r\n",
        "model.summary()"
      ],
      "execution_count": 6,
      "outputs": [
        {
          "output_type": "stream",
          "text": [
            "Model: \"sequential\"\n",
            "_________________________________________________________________\n",
            "Layer (type)                 Output Shape              Param #   \n",
            "=================================================================\n",
            "conv2d (Conv2D)              (None, 28, 28, 64)        320       \n",
            "_________________________________________________________________\n",
            "max_pooling2d (MaxPooling2D) (None, 14, 14, 64)        0         \n",
            "_________________________________________________________________\n",
            "dropout (Dropout)            (None, 14, 14, 64)        0         \n",
            "_________________________________________________________________\n",
            "conv2d_1 (Conv2D)            (None, 14, 14, 32)        8224      \n",
            "_________________________________________________________________\n",
            "max_pooling2d_1 (MaxPooling2 (None, 7, 7, 32)          0         \n",
            "_________________________________________________________________\n",
            "dropout_1 (Dropout)          (None, 7, 7, 32)          0         \n",
            "_________________________________________________________________\n",
            "flatten (Flatten)            (None, 1568)              0         \n",
            "_________________________________________________________________\n",
            "dense (Dense)                (None, 256)               401664    \n",
            "_________________________________________________________________\n",
            "dropout_2 (Dropout)          (None, 256)               0         \n",
            "_________________________________________________________________\n",
            "dense_1 (Dense)              (None, 10)                2570      \n",
            "=================================================================\n",
            "Total params: 412,778\n",
            "Trainable params: 412,778\n",
            "Non-trainable params: 0\n",
            "_________________________________________________________________\n"
          ],
          "name": "stdout"
        }
      ]
    },
    {
      "cell_type": "code",
      "metadata": {
        "id": "7eIb82STHz_t"
      },
      "source": [
        "# Notar que usamos adam como optimizador para la funcion de perdida\r\n",
        "model.compile(loss='categorical_crossentropy',\r\n",
        "             optimizer='adam',\r\n",
        "             metrics=['accuracy'])"
      ],
      "execution_count": 7,
      "outputs": []
    },
    {
      "cell_type": "code",
      "metadata": {
        "colab": {
          "base_uri": "https://localhost:8080/"
        },
        "id": "ycwGDGQpH0yH",
        "outputId": "56496944-6f3b-40d1-edb0-582a80e33515"
      },
      "source": [
        "from keras.callbacks import ModelCheckpoint\r\n",
        "\r\n",
        "# Model Chekpoint buscara de todas las iteraciones la que tenga mejor rendimiento\r\n",
        "checkpointer = ModelCheckpoint(filepath='model.weights.best.hdf5', verbose = 1, save_best_only=True)\r\n",
        "\r\n",
        "# Hacemos el entrenamiento de la red\r\n",
        "model.fit(x_train,\r\n",
        "         y_train,\r\n",
        "         batch_size=64,\r\n",
        "         epochs=2,\r\n",
        "         validation_data=(x_valid, y_valid),\r\n",
        "         callbacks=[checkpointer])"
      ],
      "execution_count": 10,
      "outputs": [
        {
          "output_type": "stream",
          "text": [
            "Epoch 1/2\n",
            "860/860 [==============================] - 61s 71ms/step - loss: 0.4379 - accuracy: 0.8421 - val_loss: 0.3310 - val_accuracy: 0.8822\n",
            "\n",
            "Epoch 00001: val_loss improved from inf to 0.33103, saving model to model.weights.best.hdf5\n",
            "Epoch 2/2\n",
            "860/860 [==============================] - 61s 71ms/step - loss: 0.3844 - accuracy: 0.8606 - val_loss: 0.2985 - val_accuracy: 0.8904\n",
            "\n",
            "Epoch 00002: val_loss improved from 0.33103 to 0.29848, saving model to model.weights.best.hdf5\n"
          ],
          "name": "stdout"
        },
        {
          "output_type": "execute_result",
          "data": {
            "text/plain": [
              "<tensorflow.python.keras.callbacks.History at 0x7f902af7a350>"
            ]
          },
          "metadata": {
            "tags": []
          },
          "execution_count": 10
        }
      ]
    },
    {
      "cell_type": "code",
      "metadata": {
        "id": "zBy7fjpCIABl"
      },
      "source": [
        "# Cargamos el modelo final\r\n",
        "model.load_weights('model.weights.best.hdf5')"
      ],
      "execution_count": 11,
      "outputs": []
    },
    {
      "cell_type": "code",
      "metadata": {
        "colab": {
          "base_uri": "https://localhost:8080/"
        },
        "id": "0YPcs_NZID_B",
        "outputId": "211567f0-33d3-4e16-cae1-4ed1ce167ba4"
      },
      "source": [
        "# Hacemos el score con la data de prueba o test\r\n",
        "score = model.evaluate(x_test, y_test, verbose=0)\r\n",
        "\r\n",
        "# Imprimimos la precision de nuestro test\r\n",
        "print('\\n', 'Test accuracy:', score[1])"
      ],
      "execution_count": 12,
      "outputs": [
        {
          "output_type": "stream",
          "text": [
            "\n",
            " Test accuracy: 0.8841999769210815\n"
          ],
          "name": "stdout"
        }
      ]
    },
    {
      "cell_type": "code",
      "metadata": {
        "colab": {
          "base_uri": "https://localhost:8080/",
          "height": 485
        },
        "id": "AKO-MTkQIGOy",
        "outputId": "4ffc8a5e-bbd3-4151-ef3b-7d075196d555"
      },
      "source": [
        "y_hat = model.predict(x_test)\r\n",
        "\r\n",
        "# Imprimimos una muestra aleatoria de nuestro set\r\n",
        "figure = plt.figure(figsize=(20, 8))\r\n",
        "for i, index in enumerate(np.random.choice(x_test.shape[0], size=15, replace=False)):\r\n",
        "    ax = figure.add_subplot(3, 5, i + 1, xticks=[], yticks=[])\r\n",
        "    # Momstrar cada imagen - (test)\r\n",
        "    ax.imshow(np.squeeze(x_test[index]))\r\n",
        "    predict_index = np.argmax(y_hat[index])\r\n",
        "    true_index = np.argmax(y_test[index])\r\n",
        "    # Poner titulos a las imagenes\r\n",
        "    ax.set_title(\"{} ({})\".format(fashion_mnist_labels[predict_index], \r\n",
        "                                  fashion_mnist_labels[true_index]),\r\n",
        "                                  color=(\"green\" if predict_index == true_index else \"red\"))"
      ],
      "execution_count": 13,
      "outputs": [
        {
          "output_type": "display_data",
          "data": {
            "image/png": "[encoded data removed]",
            "text/plain": [
              "<Figure size 1440x576 with 15 Axes>"
            ]
          },
          "metadata": {
            "tags": []
          }
        }
      ]
    }
  ]
}