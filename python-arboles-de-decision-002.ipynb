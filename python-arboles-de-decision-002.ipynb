{
  "nbformat": 4,
  "nbformat_minor": 0,
  "metadata": {
    "colab": {
      "name": "python-arboles-de-decision-002.ipynb",
      "provenance": [],
      "authorship_tag": "ABX9TyM2nrDXeow95KgEPOni4EwW",
      "include_colab_link": true
    },
    "kernelspec": {
      "name": "python3",
      "display_name": "Python 3"
    }
  },
  "cells": [
    {
      "cell_type": "markdown",
      "metadata": {
        "id": "view-in-github",
        "colab_type": "text"
      },
      "source": [
        "<a href=\"https://colab.research.google.com/github/andresvilla86/diadx-ia-ml/blob/master/python-arboles-de-decision-002.ipynb\" target=\"_parent\"><img src=\"https://colab.research.google.com/assets/colab-badge.svg\" alt=\"Open In Colab\"/></a>"
      ]
    },
    {
      "cell_type": "code",
      "metadata": {
        "id": "TeK7c3uYd1Gm"
      },
      "source": [
        "import numpy as np\r\n",
        "import matplotlib.pyplot as plt\r\n",
        "\r\n",
        "from sklearn.datasets import load_iris\r\n",
        "from sklearn.tree import DecisionTreeClassifier, plot_tree\r\n",
        "\r\n",
        "# Parameters\r\n",
        "n_classes = 3\r\n",
        "plot_colors = \"ryb\"\r\n",
        "plot_step = 0.02\r\n",
        "\r\n",
        "# Load data\r\n",
        "iris = load_iris()\r\n",
        "\r\n",
        "for pairidx, pair in enumerate([[0, 1], [0, 2], [0, 3],\r\n",
        "                                [1, 2], [1, 3], [2, 3]]):\r\n",
        "    # We only take the two corresponding features\r\n",
        "    X = iris.data[:, pair]\r\n",
        "    y = iris.target\r\n",
        "\r\n",
        "    # Train\r\n",
        "    clf = DecisionTreeClassifier().fit(X, y)\r\n",
        "\r\n",
        "    # Plot the decision boundary\r\n",
        "    plt.subplot(2, 3, pairidx + 1)\r\n",
        "\r\n",
        "    x_min, x_max = X[:, 0].min() - 1, X[:, 0].max() + 1\r\n",
        "    y_min, y_max = X[:, 1].min() - 1, X[:, 1].max() + 1\r\n",
        "    xx, yy = np.meshgrid(np.arange(x_min, x_max, plot_step),\r\n",
        "                         np.arange(y_min, y_max, plot_step))\r\n",
        "    plt.tight_layout(h_pad=0.5, w_pad=0.5, pad=2.5)\r\n",
        "\r\n",
        "    Z = clf.predict(np.c_[xx.ravel(), yy.ravel()])\r\n",
        "    Z = Z.reshape(xx.shape)\r\n",
        "    cs = plt.contourf(xx, yy, Z, cmap=plt.cm.RdYlBu)\r\n",
        "\r\n",
        "    plt.xlabel(iris.feature_names[pair[0]])\r\n",
        "    plt.ylabel(iris.feature_names[pair[1]])\r\n",
        "\r\n",
        "    # Plot the training points\r\n",
        "    for i, color in zip(range(n_classes), plot_colors):\r\n",
        "        idx = np.where(y == i)\r\n",
        "        plt.scatter(X[idx, 0], X[idx, 1], c=color, label=iris.target_names[i],\r\n",
        "                    cmap=plt.cm.RdYlBu, edgecolor='black', s=15)\r\n",
        "\r\n",
        "plt.suptitle(\"Decision surface of a decision tree using paired features\")\r\n",
        "plt.legend(loc='lower right', borderpad=0, handletextpad=0)\r\n",
        "plt.axis(\"tight\")\r\n",
        "\r\n",
        "plt.figure()\r\n",
        "clf = DecisionTreeClassifier().fit(iris.data, iris.target)\r\n",
        "plot_tree(clf, filled=True)\r\n",
        "plt.show()"
      ],
      "execution_count": null,
      "outputs": []
    }
  ]
}