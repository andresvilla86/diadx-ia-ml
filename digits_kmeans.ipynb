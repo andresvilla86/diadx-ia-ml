{
  "nbformat": 4,
  "nbformat_minor": 0,
  "metadata": {
    "colab": {
      "name": "digits_kmeans.ipynb",
      "provenance": [],
      "collapsed_sections": []
    },
    "kernelspec": {
      "display_name": "Python 3",
      "language": "python",
      "name": "python3"
    },
    "language_info": {
      "codemirror_mode": {
        "name": "ipython",
        "version": 3
      },
      "file_extension": ".py",
      "mimetype": "text/x-python",
      "name": "python",
      "nbconvert_exporter": "python",
      "pygments_lexer": "ipython3",
      "version": "3.8.3"
    }
  },
  "cells": [
    {
      "cell_type": "markdown",
      "metadata": {
        "id": "6lamR9H4oAXx"
      },
      "source": [
        "## Este ejercicio tiene como objetivo explicar la construccion de un modelo de K-Means para realizar la clasificación de dígitos en imágenes usando K-means y la librería Sklearn"
      ]
    },
    {
      "cell_type": "code",
      "metadata": {
        "id": "jPoT5IL3IT0I"
      },
      "source": [
        "%matplotlib inline\n",
        "import matplotlib.pyplot as plt\n",
        "import seaborn as sns; sns.set()  # for plot styling\n",
        "import numpy as np\n",
        "import pandas as pd\n",
        "from scipy.spatial import distance"
      ],
      "execution_count": null,
      "outputs": []
    },
    {
      "cell_type": "code",
      "metadata": {
        "colab": {
          "base_uri": "https://localhost:8080/"
        },
        "id": "8eKIKtexpzU0",
        "outputId": "70dc9c30-a919-472d-8ff3-82103167e661"
      },
      "source": [
        "from sklearn.datasets import load_digits\n",
        "from sklearn.cluster import KMeans\n",
        "digits = load_digits()\n",
        "digits.data.shape"
      ],
      "execution_count": null,
      "outputs": [
        {
          "output_type": "execute_result",
          "data": {
            "text/plain": [
              "(1797, 64)"
            ]
          },
          "metadata": {
            "tags": []
          },
          "execution_count": 4
        }
      ]
    },
    {
      "cell_type": "code",
      "metadata": {
        "id": "luF6dBGoOBt4"
      },
      "source": [
        "from sklearn.model_selection import train_test_split\n",
        "\n",
        "Xtrain, Xtest, ytrain, ytest = train_test_split(digits.data, digits.target,random_state=0,stratify = digits.target)"
      ],
      "execution_count": null,
      "outputs": []
    },
    {
      "cell_type": "code",
      "metadata": {
        "id": "h0Wm9sR0rbJe"
      },
      "source": [
        "kmeans = KMeans(n_clusters=10, random_state=0).fit(Xtrain)"
      ],
      "execution_count": null,
      "outputs": []
    },
    {
      "cell_type": "code",
      "metadata": {
        "id": "9m8uf7MlMwlM"
      },
      "source": [
        "kmeans.cluster_centers_"
      ],
      "execution_count": null,
      "outputs": []
    },
    {
      "cell_type": "code",
      "metadata": {
        "id": "ihZgQ9J1rgaT"
      },
      "source": [
        "fig, ax = plt.subplots(2, 5, figsize=(8, 3))\n",
        "numbers = kmeans.cluster_centers_.reshape(10, 8, 8)\n",
        "for axi, number in zip(ax.flat, numbers):\n",
        "    axi.set(xticks=[], yticks=[])\n",
        "    axi.imshow(number, interpolation='nearest', cmap=plt.cm.binary)"
      ],
      "execution_count": null,
      "outputs": []
    },
    {
      "cell_type": "code",
      "metadata": {
        "id": "9j6h05Res1xo"
      },
      "source": [
        "ypred = kmeans.predict(Xtest)\n",
        "\n",
        "for i in range(0,10):\n",
        "\n",
        "    row = np.where(ypred==i)[0]  # las filas en ypred que corresponden al cluster i\n",
        "    num = row.shape[0]       #  Elementos de cada cluster\n",
        "    r = np.floor(num/65)    #  Numero de filas para las figuras en el plot\n",
        "\n",
        "    print(\"cluster \"+str(i))\n",
        "    print(str(num)+\" elementos\")\n",
        "\n",
        "    plt.figure(figsize=(25,5))\n",
        "    for k in range(0, num):\n",
        "        plt.subplot(r+1, 65, k+1)\n",
        "        image = Xtest[row[k], ]\n",
        "        image = image.reshape(8, 8)\n",
        "        plt.imshow(image, cmap='gray')\n",
        "        plt.axis('off')\n",
        "    plt.show()"
      ],
      "execution_count": null,
      "outputs": []
    }
  ]
}